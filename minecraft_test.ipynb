{
  "nbformat": 4,
  "nbformat_minor": 0,
  "metadata": {
    "colab": {
      "name": "minecraft1.ipynb",
      "provenance": []
    },
    "kernelspec": {
      "name": "python3",
      "display_name": "Python 3"
    },
    "language_info": {
      "name": "python"
    }
  },
  "cells": [
    {
      "cell_type": "code",
      "metadata": {
        "colab": {
          "base_uri": "https://localhost:8080/"
        },
        "id": "ZU9TeTLmZ0Fd",
        "outputId": "b2734949-4efd-4745-b258-3976003c93c0"
      },
      "source": [
        "pip install nbtlib"
      ],
      "execution_count": 8,
      "outputs": [
        {
          "output_type": "stream",
          "text": [
            "Requirement already satisfied: nbtlib in /usr/local/lib/python3.7/dist-packages (1.7.0)\n",
            "Requirement already satisfied: numpy<2.0,>=1.16 in /usr/local/lib/python3.7/dist-packages (from nbtlib) (1.19.5)\n"
          ],
          "name": "stdout"
        }
      ]
    },
    {
      "cell_type": "code",
      "metadata": {
        "colab": {
          "base_uri": "https://localhost:8080/"
        },
        "id": "n7LwZN1CZ-yr",
        "outputId": "c0991360-3910-49ad-d315-e1913a976404"
      },
      "source": [
        "from google.colab import drive\n",
        "drive.mount('/content/gdrive/')\n",
        "import sys\n",
        "sys.path.append('/content/gdrive/MyDrive/FProject')\n",
        "folder = '/content/gdrive/MyDrive/FProject/'"
      ],
      "execution_count": 7,
      "outputs": [
        {
          "output_type": "stream",
          "text": [
            "Drive already mounted at /content/gdrive/; to attempt to forcibly remount, call drive.mount(\"/content/gdrive/\", force_remount=True).\n"
          ],
          "name": "stdout"
        }
      ]
    },
    {
      "cell_type": "code",
      "metadata": {
        "id": "gSdYUS6oafBa"
      },
      "source": [
        "import SchematicTools\n",
        "from schematic import SchematicFile\n",
        "import numpy as np\n",
        "import SchematicTools\n",
        "from PIL import Image\n",
        "#import glob\n",
        "\n",
        "\n",
        "## Take a large schematic (or multiple schematics) as input data.\n",
        "## Process and export a numpy array that contains a large number of cube-shaped samples. \n",
        "## The samples are also processed and converted to a simplified block format. \n",
        "\n",
        "## voxel size in width, height, and length.\n",
        "SAMPLESIZE = 8\n",
        "## export data path\n",
        "FILEPATH = folder + 'data/np_samples_%dx.npy' % SAMPLESIZE \n",
        "## Input schematic files.\n",
        "WORLDS = [folder + 'data/zearth_64_144_32.schematic']\n",
        "## Or you could load a number of schematics from a folder.\n",
        "#WORLDS = glob.glob(\"C:/yourschematicfolder/\" + '/*.schematic') \n",
        "## Number of samples to export.\n",
        "SAMPLECOUNT = 100000\n",
        "\n",
        "def sample(area:np.ndarray, samples:int, size:int) :\n",
        "    samplerY = np.random.randint(0, area.shape[0] - size, samples)\n",
        "    samplerZ = np.random.randint(0, area.shape[1] - size, samples) \n",
        "    samplerX = np.random.randint(0, area.shape[2] - size, samples)\n",
        "    sampler = np.stack((samplerY, samplerZ, samplerX), axis=-1)\n",
        "    slices = np.empty((samples, size, size, size), dtype=int)\n",
        "    for i in range(samples):\n",
        "        slices[i] = area[\n",
        "            sampler[i,0]:sampler[i,0]+size, \n",
        "            sampler[i,1]:sampler[i,1]+size, \n",
        "            sampler[i,2]:sampler[i,2]+size]\n",
        "    print(\"sampled %s\" % str(slices.shape))\n",
        "    return slices\n",
        "\n",
        "def sample_my(area:np.ndarray, samples:int, size:int) :\n",
        "    samplerY = np.random.randint(0, area.shape[0] - size, samples)\n",
        "    samplerZ = np.random.randint(0, area.shape[1] - size, samples) \n",
        "    samplerX = np.random.randint(0, area.shape[2] - size, samples)\n",
        "    sampler = np.stack((samplerY, samplerZ, samplerX), axis=-1)\n",
        "    slices = np.empty((samples, size, size, size), dtype=int)\n",
        "    for i in range(samples):\n",
        "        slices[i] = area[\n",
        "            sampler[i,0]:sampler[i,0]+size, \n",
        "            sampler[i,1]:sampler[i,1]+size, \n",
        "            sampler[i,2]:sampler[i,2]+size]\n",
        "    print(\"sampled %s\" % str(slices.shape))\n",
        "    return slices\n",
        "\n",
        "def sampleFlat(area:np.ndarray, samples:int, size:int) :\n",
        "    print(\"sampling flat %d, size %d\" % (samples, size))\n",
        "    samplerY = np.random.randint(0, area.shape[0], samples)\n",
        "    samplerZ = np.random.randint(0, area.shape[1] - size, samples) \n",
        "    samplerX = np.random.randint(0, area.shape[2] - size, samples)\n",
        "    sampler = np.stack((samplerY, samplerZ, samplerX), axis=-1)\n",
        "    slices = np.empty((samples, size, size), dtype=int)\n",
        "    for i in range(samples):\n",
        "        slices[i] = area[\n",
        "            sampler[i,0],\n",
        "            sampler[i,1]:sampler[i,1]+size, \n",
        "            sampler[i,2]:sampler[i,2]+size]\n",
        "    return slices\n",
        "\n",
        "def filter(slices:np.ndarray, minFill, maxFill) :\n",
        "    minBlocks = minFill * SAMPLESIZE**3\n",
        "    maxBlocks = maxFill * SAMPLESIZE**3\n",
        "    mask = np.logical_and(slices.sum(axis=(1,2,3)) > minBlocks, slices.sum(axis=(1,2,3)) < maxBlocks) \n",
        "    return slices[mask]\n",
        "\n",
        "def filterFlat(slices:np.ndarray, threshold) :\n",
        "    mask = slices.sum(axis=(1,2)) > threshold\n",
        "    return slices[mask]\n",
        "\n",
        "def showSamples(samples, width, height) :\n",
        "    preview = np.empty((0, SAMPLESIZE * width,3), np.uint8)\n",
        "    for i in range(width):\n",
        "        row = np.empty((SAMPLESIZE, 0, 3), np.uint8)\n",
        "        for j in range(height):\n",
        "            imageR = samples[i*width + j, :, :, :] * 255\n",
        "            imageG = np.average(imageR, axis=0)\n",
        "            image = np.stack((imageR[0], imageG, imageG), axis=2)\n",
        "            row = np.hstack((row, image))\n",
        "        preview = np.vstack((preview, row))\n",
        "\n",
        "    outputimage = Image.fromarray(preview.astype(np.uint8))\n",
        "    #outputimage.save('samplesPreview.png')\n",
        "    outputimage.show()\n",
        "\n",
        "def exportSamples(samples, width, height, spacing) :\n",
        "    exportWorld = np.empty((SAMPLESIZE, (SAMPLESIZE + spacing) * width, 0), np.uint8)\n",
        "    for i in range(width):\n",
        "        row = np.empty((SAMPLESIZE, 0, SAMPLESIZE), np.uint8)\n",
        "        for j in range(height):\n",
        "            structure = samples[i*width + j, :, :, :] # load a sample\n",
        "            #apply spacing\n",
        "            structure = np.concatenate((structure, np.zeros((SAMPLESIZE, spacing, SAMPLESIZE), dtype=np.uint8)), axis=1)\n",
        "            #add to the row\n",
        "            row = np.concatenate((row, structure), axis=1)\n",
        "        #add to the column\n",
        "        exportWorld = np.concatenate((exportWorld, row), axis=2)\n",
        "        #apply spacing\n",
        "        exportWorld = np.concatenate((exportWorld, np.zeros((SAMPLESIZE, (SAMPLESIZE + spacing) * width, spacing), dtype=np.uint8)), axis=2)\n",
        "    exportSchematic = SchematicFile(shape=exportWorld.shape)\n",
        "    exportSchematic.blocks = exportWorld\n",
        "    exportSchematic.save(folder + \"data/sampledExample.schematic\")"
      ],
      "execution_count": 9,
      "outputs": []
    },
    {
      "cell_type": "markdown",
      "metadata": {
        "id": "SBKoSbs23tNQ"
      },
      "source": [
        "My prova"
      ]
    },
    {
      "cell_type": "code",
      "metadata": {
        "id": "j9Bb6y6Fc37T"
      },
      "source": [
        "#input/content/gdrive/MyDrive/FProject/\n",
        "\n",
        "simpleWorlds = SchematicTools.simplify(SchematicTools.loadArea(folder + 'mcedit settlement generator/0.schematic'))\n",
        "#exporting after simpleWorlds became\n",
        "exportSchematic = SchematicFile(shape=simpleWorlds.shape)\n",
        "exportSchematic.blocks = simpleWorlds\n",
        "exportSchematic.save(folder + \"mcedit settlement generator/sampledExample.schematic\")"
      ],
      "execution_count": 6,
      "outputs": []
    },
    {
      "cell_type": "markdown",
      "metadata": {
        "id": "c83-hsgU6nGL"
      },
      "source": [
        "My prova 2"
      ]
    },
    {
      "cell_type": "code",
      "metadata": {
        "colab": {
          "base_uri": "https://localhost:8080/",
          "height": 232
        },
        "id": "dWzVepS46pY8",
        "outputId": "bf0f677a-b0fa-42eb-b594-8a86040b74e0"
      },
      "source": [
        "#input/content/gdrive/MyDrive/FProject/\n",
        "\n",
        "simpleWorlds = SchematicTools.simplify2(SchematicTools.loadArea(folder + 'mcedit settlement generator/0.schematic'))\n",
        "#exporting after simpleWorlds became\n",
        "exportSchematic = SchematicFile(shape=simpleWorlds.shape)\n",
        "exportSchematic.blocks = simpleWorlds\n",
        "exportSchematic.save(folder + \"mcedit settlement generator/sampledExample.schematic\")"
      ],
      "execution_count": 11,
      "outputs": [
        {
          "output_type": "error",
          "ename": "AttributeError",
          "evalue": "ignored",
          "traceback": [
            "\u001b[0;31m---------------------------------------------------------------------------\u001b[0m",
            "\u001b[0;31mAttributeError\u001b[0m                            Traceback (most recent call last)",
            "\u001b[0;32m<ipython-input-11-77abfaab00e8>\u001b[0m in \u001b[0;36m<module>\u001b[0;34m()\u001b[0m\n\u001b[1;32m      1\u001b[0m \u001b[0;31m#input/content/gdrive/MyDrive/FProject/\u001b[0m\u001b[0;34m\u001b[0m\u001b[0;34m\u001b[0m\u001b[0;34m\u001b[0m\u001b[0m\n\u001b[1;32m      2\u001b[0m \u001b[0;34m\u001b[0m\u001b[0m\n\u001b[0;32m----> 3\u001b[0;31m \u001b[0msimpleWorlds\u001b[0m \u001b[0;34m=\u001b[0m \u001b[0mSchematicTools\u001b[0m\u001b[0;34m.\u001b[0m\u001b[0msimplify2\u001b[0m\u001b[0;34m(\u001b[0m\u001b[0mSchematicTools\u001b[0m\u001b[0;34m.\u001b[0m\u001b[0mloadArea\u001b[0m\u001b[0;34m(\u001b[0m\u001b[0mfolder\u001b[0m \u001b[0;34m+\u001b[0m \u001b[0;34m'mcedit settlement generator/0.schematic'\u001b[0m\u001b[0;34m)\u001b[0m\u001b[0;34m)\u001b[0m\u001b[0;34m\u001b[0m\u001b[0;34m\u001b[0m\u001b[0m\n\u001b[0m\u001b[1;32m      4\u001b[0m \u001b[0;31m#exporting after simpleWorlds became\u001b[0m\u001b[0;34m\u001b[0m\u001b[0;34m\u001b[0m\u001b[0;34m\u001b[0m\u001b[0m\n\u001b[1;32m      5\u001b[0m \u001b[0mexportSchematic\u001b[0m \u001b[0;34m=\u001b[0m \u001b[0mSchematicFile\u001b[0m\u001b[0;34m(\u001b[0m\u001b[0mshape\u001b[0m\u001b[0;34m=\u001b[0m\u001b[0msimpleWorlds\u001b[0m\u001b[0;34m.\u001b[0m\u001b[0mshape\u001b[0m\u001b[0;34m)\u001b[0m\u001b[0;34m\u001b[0m\u001b[0;34m\u001b[0m\u001b[0m\n",
            "\u001b[0;31mAttributeError\u001b[0m: module 'SchematicTools' has no attribute 'simplify2'"
          ]
        }
      ]
    },
    {
      "cell_type": "code",
      "metadata": {
        "colab": {
          "base_uri": "https://localhost:8080/"
        },
        "id": "UZ2kLzhQaQej",
        "outputId": "9ad811ad-f0e3-402e-f310-68949be559a8"
      },
      "source": [
        "simpleWorlds[0][0]"
      ],
      "execution_count": null,
      "outputs": [
        {
          "output_type": "execute_result",
          "data": {
            "text/plain": [
              "array([ True,  True,  True,  True,  True,  True,  True,  True,  True,\n",
              "        True,  True,  True,  True,  True,  True,  True,  True,  True,\n",
              "        True,  True,  True,  True,  True,  True,  True,  True,  True,\n",
              "        True,  True,  True,  True,  True,  True,  True,  True,  True,\n",
              "        True,  True,  True,  True,  True,  True,  True,  True,  True,\n",
              "        True,  True,  True,  True,  True,  True, False, False, False,\n",
              "       False, False, False, False, False, False, False, False, False,\n",
              "       False])"
            ]
          },
          "metadata": {
            "tags": []
          },
          "execution_count": 97
        }
      ]
    },
    {
      "cell_type": "code",
      "metadata": {
        "colab": {
          "base_uri": "https://localhost:8080/"
        },
        "id": "3loY8kmfZhfm",
        "outputId": "53303f1c-63bf-4bb1-c1bd-df8eefddd379"
      },
      "source": [
        "samples = np.empty((0, SAMPLESIZE, SAMPLESIZE, SAMPLESIZE))\n",
        "for s in simpleWorlds :\n",
        "    samples = np.concatenate((samples, sample(s, SAMPLECOUNT, SAMPLESIZE)), axis=0)"
      ],
      "execution_count": null,
      "outputs": [
        {
          "output_type": "stream",
          "text": [
            "sampled (100000, 8, 8, 8)\n"
          ],
          "name": "stdout"
        }
      ]
    },
    {
      "cell_type": "code",
      "metadata": {
        "colab": {
          "base_uri": "https://localhost:8080/"
        },
        "id": "Gx2OYSksZlJX",
        "outputId": "fd943e60-fec8-4208-b5af-30166eefdb0b"
      },
      "source": [
        "samples[0][0][0][0]"
      ],
      "execution_count": null,
      "outputs": [
        {
          "output_type": "execute_result",
          "data": {
            "text/plain": [
              "0.0"
            ]
          },
          "metadata": {
            "tags": []
          },
          "execution_count": 77
        }
      ]
    },
    {
      "cell_type": "code",
      "metadata": {
        "colab": {
          "base_uri": "https://localhost:8080/",
          "height": 248
        },
        "id": "CfdHgu3MdJxb",
        "outputId": "46a90523-dda2-448d-d01b-ba9df9ebb7b2"
      },
      "source": [
        "import matplotlib.pyplot as plt\n",
        "import numpy as np\n",
        "\n",
        "# Fixing random state for reproducibility\n",
        "np.random.seed(19680801)\n",
        "\n",
        "\n",
        "def randrange(n, vmin, vmax):\n",
        "    \"\"\"\n",
        "    Helper function to make an array of random numbers having shape (n, )\n",
        "    with each number distributed Uniform(vmin, vmax).\n",
        "    \"\"\"\n",
        "    return (vmax - vmin)*np.random.rand(n) + vmin\n",
        "\n",
        "fig = plt.figure()\n",
        "ax = fig.add_subplot(111, projection='3d')\n",
        "\n",
        "n = 100\n",
        "\n",
        "# For each set of style and range settings, plot n random points in the box\n",
        "# defined by x in [23, 32], y in [0, 100], z in [zlow, zhigh].\n",
        "for m, zlow, zhigh in [('o', -50, -25), ('^', -30, -5)]:\n",
        "    #xs = randrange(n, 23, 32)\n",
        "    #ys = randrange(n, 0, 100)\n",
        "    #zs = randrange(n, zlow, zhigh)\n",
        "    ax.scatter(simpleWorlds[2], simpleWorlds[0], simpleWorlds[1], marker=m)\n",
        "\n",
        "ax.set_xlabel('X Label')\n",
        "ax.set_ylabel('Y Label')\n",
        "ax.set_zlabel('Z Label')\n",
        "\n",
        "plt.show()"
      ],
      "execution_count": 5,
      "outputs": [
        {
          "output_type": "display_data",
          "data": {
            "image/png": "[encoded data removed]",
            "text/plain": [
              "<Figure size 432x288 with 1 Axes>"
            ]
          },
          "metadata": {
            "tags": [],
            "needs_background": "light"
          }
        }
      ]
    },
    {
      "cell_type": "code",
      "metadata": {
        "id": "h7PDr3MwdleJ"
      },
      "source": [
        ""
      ],
      "execution_count": null,
      "outputs": []
    }
  ]
}